{
 "cells": [
  {
   "cell_type": "code",
   "execution_count": 32,
   "id": "8991ff7e",
   "metadata": {},
   "outputs": [],
   "source": [
    "import tkinter as tk\n",
    "from tkinter import filedialog\n",
    "from PIL import Image, ImageTk\n",
    "import torch\n",
    "import torch.nn as nn\n",
    "import torch.nn.functional as F\n",
    "from torchvision import transforms, models\n",
    "from torchvision.models import VGG16_Weights, ResNet50_Weights\n"
   ]
  },
  {
   "cell_type": "code",
   "execution_count": 33,
   "id": "07fce2b8",
   "metadata": {},
   "outputs": [],
   "source": [
    "# Load VGG model\n",
    "def load_vgg_model(path, num_classes):\n",
    "    device = torch.device(\"cuda\" if torch.cuda.is_available() else \"cpu\")\n",
    "    model = models.vgg16(weights=VGG16_Weights.IMAGENET1K_V1)\n",
    "    for name, param in model.named_parameters():\n",
    "        if \"28\" in name or \"29\" in name:\n",
    "            param.requires_grad = True\n",
    "        else:\n",
    "            param.requires_grad = False\n",
    "    model.classifier = nn.Sequential(\n",
    "        nn.Flatten(),\n",
    "        nn.Linear(25088, 512),\n",
    "        nn.Linear(512, 256),\n",
    "        nn.Dropout(0.5),\n",
    "        nn.Linear(256, num_classes)\n",
    "    )\n",
    "    model.load_state_dict(torch.load(path, map_location=device))\n",
    "    model = model.to(device)\n",
    "    model.eval()\n",
    "    return model"
   ]
  },
  {
   "cell_type": "code",
   "execution_count": 34,
   "id": "3c98e2b6",
   "metadata": {},
   "outputs": [],
   "source": [
    "# Load ResNet model\n",
    "def load_resnet_model(path, num_classes):\n",
    "    device = torch.device(\"cuda\" if torch.cuda.is_available() else \"cpu\")\n",
    "    model = models.resnet50(weights=ResNet50_Weights.IMAGENET1K_V1)\n",
    "    for name, param in model.named_parameters():\n",
    "        if \"layer4\" in name or \"fc\" in name:\n",
    "            param.requires_grad = True\n",
    "        else:\n",
    "            param.requires_grad = False \n",
    "    model.fc = nn.Sequential(\n",
    "        nn.Linear(model.fc.in_features, 512),\n",
    "        nn.Linear(512, 256),\n",
    "        nn.Dropout(0.5),\n",
    "        nn.Linear(256, num_classes)\n",
    "    )\n",
    "    model.load_state_dict(torch.load(path, map_location=device))\n",
    "    model = model.to(device)\n",
    "    model.eval()\n",
    "    return model"
   ]
  },
  {
   "cell_type": "code",
   "execution_count": 35,
   "id": "b2519309",
   "metadata": {},
   "outputs": [],
   "source": [
    "transform = transforms.Compose([\n",
    "    transforms.Resize((256, 256)),\n",
    "    # transforms.Grayscale(num_output_channels=3),\n",
    "    transforms.ToTensor(),\n",
    "    transforms.Normalize([0.5], [0.5]) \n",
    "])"
   ]
  },
  {
   "cell_type": "code",
   "execution_count": 36,
   "id": "c895c519",
   "metadata": {},
   "outputs": [],
   "source": [
    "# Ganti dengan kelas dataset kamu\n",
    "classes = ['Senang', 'Takut']  # contoh"
   ]
  },
  {
   "cell_type": "code",
   "execution_count": 37,
   "id": "a6143e3d",
   "metadata": {},
   "outputs": [],
   "source": [
    "num_classes = len(classes)\n",
    "device = torch.device(\"cuda\" if torch.cuda.is_available() else \"cpu\")"
   ]
  },
  {
   "cell_type": "code",
   "execution_count": 38,
   "id": "787eed9a",
   "metadata": {},
   "outputs": [
    {
     "name": "stderr",
     "output_type": "stream",
     "text": [
      "C:\\Users\\user\\AppData\\Local\\Temp\\ipykernel_87232\\3597473485.py:17: FutureWarning: You are using `torch.load` with `weights_only=False` (the current default value), which uses the default pickle module implicitly. It is possible to construct malicious pickle data which will execute arbitrary code during unpickling (See https://github.com/pytorch/pytorch/blob/main/SECURITY.md#untrusted-models for more details). In a future release, the default value for `weights_only` will be flipped to `True`. This limits the functions that could be executed during unpickling. Arbitrary objects will no longer be allowed to be loaded via this mode unless they are explicitly allowlisted by the user via `torch.serialization.add_safe_globals`. We recommend you start setting `weights_only=True` for any use case where you don't have full control of the loaded file. Please open an issue on GitHub for any issues related to this experimental feature.\n",
      "  model.load_state_dict(torch.load(path, map_location=device))\n",
      "C:\\Users\\user\\AppData\\Local\\Temp\\ipykernel_87232\\2668871089.py:16: FutureWarning: You are using `torch.load` with `weights_only=False` (the current default value), which uses the default pickle module implicitly. It is possible to construct malicious pickle data which will execute arbitrary code during unpickling (See https://github.com/pytorch/pytorch/blob/main/SECURITY.md#untrusted-models for more details). In a future release, the default value for `weights_only` will be flipped to `True`. This limits the functions that could be executed during unpickling. Arbitrary objects will no longer be allowed to be loaded via this mode unless they are explicitly allowlisted by the user via `torch.serialization.add_safe_globals`. We recommend you start setting `weights_only=True` for any use case where you don't have full control of the loaded file. Please open an issue on GitHub for any issues related to this experimental feature.\n",
      "  model.load_state_dict(torch.load(path, map_location=device))\n"
     ]
    }
   ],
   "source": [
    "model_vgg = load_vgg_model('vgg_emotion_model6.pth', num_classes)\n",
    "model_resnet = load_resnet_model('resnet_emotion_model5.pth', num_classes)"
   ]
  },
  {
   "cell_type": "code",
   "execution_count": 39,
   "id": "537da1a5",
   "metadata": {},
   "outputs": [],
   "source": [
    "# Prediction function\n",
    "def predict(image_path):\n",
    "    image = Image.open(image_path).convert('RGB')\n",
    "    img_tensor = transform(image).unsqueeze(0).to(device)\n",
    "    \n",
    "    with torch.no_grad():\n",
    "        # VGG prediction\n",
    "        out_vgg = model_vgg(img_tensor)\n",
    "        prob_vgg = F.softmax(out_vgg, dim=1)\n",
    "        conf_vgg, pred_vgg = torch.max(prob_vgg, 1)\n",
    "        \n",
    "        # ResNet prediction\n",
    "        out_resnet = model_resnet(img_tensor)\n",
    "        prob_resnet = F.softmax(out_resnet, dim=1)\n",
    "        conf_resnet, pred_resnet = torch.max(prob_resnet, 1)\n",
    "        \n",
    "    return (classes[pred_vgg.item()], conf_vgg.item()), (classes[pred_resnet.item()], conf_resnet.item())"
   ]
  },
  {
   "cell_type": "code",
   "execution_count": 1,
   "id": "0180268e",
   "metadata": {},
   "outputs": [],
   "source": [
    "import tkinter as tk\n",
    "from tkinter import filedialog\n",
    "from PIL import Image, ImageTk\n",
    "\n",
    "def open_file():\n",
    "    file_path = filedialog.askopenfilename()\n",
    "    if file_path:\n",
    "        img = Image.open(file_path).resize((256, 256))\n",
    "        img = ImageTk.PhotoImage(img)\n",
    "        panel.configure(image=img)\n",
    "        panel.image = img\n",
    "\n",
    "        (vgg_pred, vgg_conf), (resnet_pred, resnet_conf) = predict(file_path)\n",
    "\n",
    "        label_result1.config(text=f\"VGG16 Prediction: {vgg_pred} ({vgg_conf*100:.2f}%)\")\n",
    "        label_result2.config(text=f\"ResNet50 Prediction: {resnet_pred} ({resnet_conf*100:.2f}%)\")\n",
    "\n",
    "root = tk.Tk()\n",
    "root.title(\"Emotion Detection: VGG16 vs ResNet50\")\n",
    "root.geometry(\"500x650\")\n",
    "root.configure(bg=\"#f0f2f5\")  \n",
    "\n",
    "# Frame for styling\n",
    "frame = tk.Frame(root, bg=\"white\", bd=2, relief=\"groove\")\n",
    "frame.pack(padx=20, pady=20)\n",
    "\n",
    "title_label = tk.Label(frame, text=\"Emotion Detector\", font=(\"Segoe UI\", 20, \"bold\"), bg=\"white\", fg=\"#333\")\n",
    "title_label.pack(pady=10)\n",
    "\n",
    "btn = tk.Button(frame, text=\"Select Image\", command=open_file, font=(\"Segoe UI\", 12, \"bold\"), bg=\"#4CAF50\", fg=\"white\", activebackground=\"#45a049\", padx=10, pady=5, bd=0, relief=\"ridge\", cursor=\"hand2\")\n",
    "btn.pack(pady=10)\n",
    "\n",
    "placeholder = Image.open(\"placeholder.png\").resize((256, 256))\n",
    "placeholder_img = ImageTk.PhotoImage(placeholder)\n",
    "\n",
    "panel = tk.Label(frame, image=placeholder_img, bg=\"white\", bd=2, relief=\"solid\")\n",
    "panel.image = placeholder_img  \n",
    "panel.pack(pady=10)\n",
    "\n",
    "label_result1 = tk.Label(frame, text=\"VGG16 Prediction:\", font=(\"Segoe UI\", 14), bg=\"white\", fg=\"#555\")\n",
    "label_result1.pack(pady=5)\n",
    "\n",
    "label_result2 = tk.Label(frame, text=\"ResNet50 Prediction:\", font=(\"Segoe UI\", 14), bg=\"white\", fg=\"#555\")\n",
    "label_result2.pack(pady=5)\n",
    "\n",
    "footer = tk.Label(root, text=\"Built by Calvin Rooyen using PyTorch and Tkinter\", font=(\"Segoe UI\", 9), bg=\"#f0f2f5\", fg=\"#999\")\n",
    "footer.pack(pady=10)\n",
    "\n",
    "root.mainloop()"
   ]
  },
  {
   "cell_type": "code",
   "execution_count": null,
   "id": "996f287c",
   "metadata": {},
   "outputs": [],
   "source": []
  }
 ],
 "metadata": {
  "kernelspec": {
   "display_name": "pytorch",
   "language": "python",
   "name": "python3"
  },
  "language_info": {
   "codemirror_mode": {
    "name": "ipython",
    "version": 3
   },
   "file_extension": ".py",
   "mimetype": "text/x-python",
   "name": "python",
   "nbconvert_exporter": "python",
   "pygments_lexer": "ipython3",
   "version": "3.12.7"
  }
 },
 "nbformat": 4,
 "nbformat_minor": 5
}
